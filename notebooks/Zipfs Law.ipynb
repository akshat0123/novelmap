{
 "cells": [
  {
   "cell_type": "markdown",
   "metadata": {},
   "source": [
    "# Zipfs Law"
   ]
  },
  {
   "cell_type": "markdown",
   "metadata": {},
   "source": [
    "## Load Files"
   ]
  },
  {
   "cell_type": "code",
   "execution_count": 1,
   "metadata": {
    "collapsed": true
   },
   "outputs": [],
   "source": [
    "from goodreads_shelves import get_shelves_given_titles\n",
    "from preprocessor import PreProcessor\n",
    "from library import Library\n",
    "from tqdm import tqdm\n",
    "from os.path import isfile\n",
    "import pickle\n",
    "\n",
    "TITLES = '../data/base/books.txt'\n",
    "SHELVES = '../data/base/book_shelves.json'\n",
    "\n",
    "DELIM = '../data/base/books_delimiter_data.txt'\n",
    "RAW = '../data/raw'\n",
    "\n",
    "DICT = '../data/dumps/book_dictionary.dict'\n",
    "CORP = '../data/dumps/book_corpus.dict'\n",
    "TOKEN = '../data/dumps/token_dump.p'\n",
    "\n",
    "LDA_MODEL = '../data/dumps/lda_model.p'\n",
    "LSI_MODEL = '../data/dumps/lsi_model.p'\n",
    "\n",
    "# Get book texts split into chapters\n",
    "preprocessor = PreProcessor(DICT, CORP, DELIM, RAW, TOKEN, 0)\n",
    "dictionary, corpus, books = preprocessor.get_library_info()"
   ]
  },
  {
   "cell_type": "markdown",
   "metadata": {},
   "source": [
    "## Get Term Frequencies"
   ]
  },
  {
   "cell_type": "code",
   "execution_count": 2,
   "metadata": {
    "collapsed": true
   },
   "outputs": [],
   "source": [
    "from bigram_model import BigramModel\n",
    "bm = BigramModel()\n",
    "\n",
    "for title in books:\n",
    "    bm.add_document(books[title]['book_tokens'])"
   ]
  },
  {
   "cell_type": "code",
   "execution_count": 3,
   "metadata": {
    "collapsed": true
   },
   "outputs": [],
   "source": [
    "unigram_freqs = bm.unigram_term_freqs\n",
    "unigram_total_freqs = bm.unigram_total_term_freqs\n",
    "\n",
    "unigram_probs = {}\n",
    "\n",
    "for unigram in unigram_freqs:\n",
    "    unigram_probs[unigram] = unigram_freqs[unigram] / unigram_total_freqs"
   ]
  },
  {
   "cell_type": "code",
   "execution_count": 7,
   "metadata": {},
   "outputs": [
    {
     "name": "stdout",
     "output_type": "stream",
     "text": [
      "54142\n"
     ]
    },
    {
     "data": {
      "image/png": "[encoded data removed]",
      "text/plain": [
       "<Figure size 432x288 with 1 Axes>"
      ]
     },
     "metadata": {},
     "output_type": "display_data"
    }
   ],
   "source": [
    "from scipy.interpolate import interp1d\n",
    "from matplotlib import pyplot as plt\n",
    "\n",
    "sorted_unigram_probs = [(token, unigram_probs[token]) for token in unigram_probs]\n",
    "sorted_unigram_probs = sorted(sorted_unigram_probs, key=lambda x: x[1], reverse=True)\n",
    "print(len(sorted_unigram_probs))\n",
    "\n",
    "x = []\n",
    "for pair in sorted_unigram_probs:\n",
    "    x.append(pair[1])\n",
    "    \n",
    "    \n",
    "f = interp1d(range(0, len(x)), x)\n",
    "plt.xscale('log')\n",
    "plt.yscale('log')\n",
    "plt.plot(range(0,len(x)),x,'.',range(0,len(x)),f(range(0,len(x))),'-')\n",
    "plt.show()"
   ]
  }
 ],
 "metadata": {
  "kernelspec": {
   "display_name": "Python 3",
   "language": "python",
   "name": "python3"
  },
  "language_info": {
   "codemirror_mode": {
    "name": "ipython",
    "version": 3
   },
   "file_extension": ".py",
   "mimetype": "text/x-python",
   "name": "python",
   "nbconvert_exporter": "python",
   "pygments_lexer": "ipython3",
   "version": "3.6.1"
  }
 },
 "nbformat": 4,
 "nbformat_minor": 2
}
